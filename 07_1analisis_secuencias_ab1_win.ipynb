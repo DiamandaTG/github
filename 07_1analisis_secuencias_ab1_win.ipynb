{
 "cells": [
  {
   "cell_type": "markdown",
   "metadata": {},
   "source": [
    "# Bitacora para analizar archivos ab1\n",
    "tomado de \n",
    "http://biopython.org/wiki/ABI_traces"
   ]
  },
  {
   "cell_type": "code",
   "execution_count": null,
   "metadata": {
    "collapsed": true
   },
   "outputs": [],
   "source": [
    "from Bio import SeqIO, SeqRecord\n",
    "from Bio.Alphabet import IUPAC"
   ]
  },
  {
   "cell_type": "code",
   "execution_count": null,
   "metadata": {
    "collapsed": true
   },
   "outputs": [],
   "source": [
    "from abifpy import Trace\n",
    "from collections import defaultdict\n",
    "import matplotlib.pyplot as plt"
   ]
  },
  {
   "cell_type": "code",
   "execution_count": null,
   "metadata": {
    "collapsed": true
   },
   "outputs": [],
   "source": [
    "ls \"/Users/SALA GRAL/Desktop/bioinformatica_aplicada/data/ab1/\""
   ]
  },
  {
   "cell_type": "code",
   "execution_count": 1,
   "metadata": {},
   "outputs": [
    {
     "name": "stdout",
     "output_type": "stream",
     "text": [
      "C:\\Users\\SALA GRAL\\Desktop\\bioinformatica_aplicada\\data\\ab1\n"
     ]
    }
   ],
   "source": [
    "cd /Users/SALA GRAL/Desktop/bioinformatica_aplicada/data/ab1/"
   ]
  },
  {
   "cell_type": "markdown",
   "metadata": {},
   "source": [
    "# Obtencion de la secuencia eliminando valores de baja calidad \n",
    "# Trimming\n",
    "#### tomado de \n",
    "#### https://github.com/bow/abifpy"
   ]
  },
  {
   "cell_type": "code",
   "execution_count": null,
   "metadata": {
    "collapsed": true
   },
   "outputs": [],
   "source": [
    "rec= Trace(\"Nav1.2_(B9)-DG7A_E12_010.ab1\")"
   ]
  },
  {
   "cell_type": "code",
   "execution_count": null,
   "metadata": {
    "collapsed": true
   },
   "outputs": [],
   "source": [
    "rec1= Trace('Nav1.2_(B9)-DG7A_E12_010.ab1',  trimming=True)"
   ]
  },
  {
   "cell_type": "markdown",
   "metadata": {},
   "source": [
    "## Comparando las secuencias de manera visual"
   ]
  },
  {
   "cell_type": "code",
   "execution_count": null,
   "metadata": {
    "collapsed": true
   },
   "outputs": [],
   "source": [
    "print(rec.seq, \"\\n\", rec1.seq)"
   ]
  },
  {
   "cell_type": "markdown",
   "metadata": {},
   "source": [
    "## Observando los valores de calidad"
   ]
  },
  {
   "cell_type": "code",
   "execution_count": null,
   "metadata": {
    "collapsed": true
   },
   "outputs": [],
   "source": [
    "rec.qual"
   ]
  },
  {
   "cell_type": "code",
   "execution_count": null,
   "metadata": {
    "collapsed": true
   },
   "outputs": [],
   "source": [
    "rec1.qual"
   ]
  },
  {
   "cell_type": "markdown",
   "metadata": {},
   "source": [
    "## cuántos nucleotidos eliminó el recorte (trimming)?"
   ]
  },
  {
   "cell_type": "code",
   "execution_count": null,
   "metadata": {
    "collapsed": true
   },
   "outputs": [],
   "source": [
    "print (len(rec.seq), len(rec1.seq))"
   ]
  },
  {
   "cell_type": "markdown",
   "metadata": {},
   "source": [
    "## alineamiento de las secuencias para observar en donde se cortaron las secuencias"
   ]
  },
  {
   "cell_type": "code",
   "execution_count": null,
   "metadata": {
    "collapsed": true
   },
   "outputs": [],
   "source": [
    "from Bio import pairwise2\n",
    "from Bio.SubsMat.MatrixInfo import blosum62"
   ]
  },
  {
   "cell_type": "markdown",
   "metadata": {},
   "source": [
    "Se estan observando los datos de las secuencias de la posicion 1 hasta la 94 (recuerde Python inicia a contar desde 0) y se observan los nucleotidos que se eliminaron en rec1"
   ]
  },
  {
   "cell_type": "code",
   "execution_count": null,
   "metadata": {
    "collapsed": true
   },
   "outputs": [],
   "source": [
    "alignments = pairwise2.align.globalds(rec.seq[:93],rec1.seq[:84], blosum62, -10, -0.5)\n",
    "print(pairwise2.format_alignment(*alignments[0]))"
   ]
  },
  {
   "cell_type": "markdown",
   "metadata": {},
   "source": [
    "Observando las secuencias completas"
   ]
  },
  {
   "cell_type": "code",
   "execution_count": null,
   "metadata": {
    "collapsed": true
   },
   "outputs": [],
   "source": [
    "alignments = pairwise2.align.globalds(rec.seq,rec1.seq, blosum62, -10, -0.5)\n",
    "print(pairwise2.format_alignment(*alignments[0]))"
   ]
  },
  {
   "cell_type": "markdown",
   "metadata": {},
   "source": [
    "Describa lo que observa"
   ]
  },
  {
   "cell_type": "code",
   "execution_count": null,
   "metadata": {
    "collapsed": true
   },
   "outputs": [],
   "source": []
  },
  {
   "cell_type": "code",
   "execution_count": null,
   "metadata": {
    "collapsed": true
   },
   "outputs": [],
   "source": [
    "alignments = pairwise2.align.globalds(rec.seq[len(rec.seq)-113:],rec1.seq[len(rec1.seq)-100:], blosum62, -10, -0.5)\n",
    "print(pairwise2.format_alignment(*alignments[0]))"
   ]
  },
  {
   "cell_type": "markdown",
   "metadata": {},
   "source": [
    "### qué se está observando en el último comando"
   ]
  },
  {
   "cell_type": "code",
   "execution_count": null,
   "metadata": {
    "collapsed": true
   },
   "outputs": [],
   "source": []
  },
  {
   "cell_type": "code",
   "execution_count": null,
   "metadata": {
    "collapsed": true
   },
   "outputs": [],
   "source": []
  },
  {
   "cell_type": "markdown",
   "metadata": {},
   "source": [
    "### en los siguientes comandos, describa (haga la anotación correspondiente) qué información que se está obteniendo"
   ]
  },
  {
   "cell_type": "code",
   "execution_count": null,
   "metadata": {
    "collapsed": true
   },
   "outputs": [],
   "source": [
    "rec1.id"
   ]
  },
  {
   "cell_type": "code",
   "execution_count": null,
   "metadata": {
    "collapsed": true
   },
   "outputs": [],
   "source": [
    "print(rec1.id, rec1.seq )"
   ]
  },
  {
   "cell_type": "markdown",
   "metadata": {},
   "source": [
    "## para reconstruir la secuencia y poder guardarla"
   ]
  },
  {
   "cell_type": "code",
   "execution_count": null,
   "metadata": {
    "collapsed": true
   },
   "outputs": [],
   "source": [
    "from Bio.Seq import Seq\n",
    "from Bio.SeqRecord import SeqRecord"
   ]
  },
  {
   "cell_type": "code",
   "execution_count": null,
   "metadata": {
    "collapsed": true
   },
   "outputs": [],
   "source": [
    "secuencia = SeqRecord(Seq((rec1.seq)), id=rec1.id, description=rec1.id)\n",
    "secuencia"
   ]
  },
  {
   "cell_type": "code",
   "execution_count": null,
   "metadata": {
    "collapsed": true
   },
   "outputs": [],
   "source": [
    "SeqIO.write(secuencia, \"../fasta/Nav1.2F.fa\", \"fasta\")\n"
   ]
  },
  {
   "cell_type": "code",
   "execution_count": null,
   "metadata": {
    "collapsed": true
   },
   "outputs": [],
   "source": [
    "!more \"../fasta/Nav1.2F.fa\""
   ]
  },
  {
   "cell_type": "markdown",
   "metadata": {},
   "source": [
    "### Se tienen 20 archivos que hay que procesar"
   ]
  },
  {
   "cell_type": "markdown",
   "metadata": {},
   "source": [
    "### se utilizan los comandos del sistema operativo para leer archivos de directorios"
   ]
  },
  {
   "cell_type": "code",
   "execution_count": null,
   "metadata": {
    "collapsed": true
   },
   "outputs": [],
   "source": [
    "import os#, sys"
   ]
  },
  {
   "cell_type": "code",
   "execution_count": null,
   "metadata": {
    "collapsed": true
   },
   "outputs": [],
   "source": [
    "pwd"
   ]
  },
  {
   "cell_type": "code",
   "execution_count": null,
   "metadata": {
    "collapsed": true
   },
   "outputs": [],
   "source": [
    "lista = os.listdir(path =\"./\")\n",
    "lista"
   ]
  },
  {
   "cell_type": "code",
   "execution_count": null,
   "metadata": {
    "collapsed": true
   },
   "outputs": [],
   "source": [
    "n=0\n",
    "for row in lista:\n",
    "    if row[:1]!=\".\":\n",
    "        n+=1\n",
    "        print (row)\n",
    "print (n, \"archivos que se procesarán para eliminar secciones de baja calidad\")\n"
   ]
  },
  {
   "cell_type": "markdown",
   "metadata": {},
   "source": [
    "# Ejercicio:\n",
    "### Utilizandola información de la presente bitácora haga un ciclo (loop) para recortar las secuencias eliminando las regiones de baja calidad\n",
    "### guarde los archivos de manera individual con extensión fasta"
   ]
  },
  {
   "cell_type": "code",
   "execution_count": null,
   "metadata": {
    "collapsed": true
   },
   "outputs": [],
   "source": [
    "n=0\n",
    "for row in lista:\n",
    "    if row[:1]==\".\":\n",
    "        continue\n",
    "    n+=1\n",
    "    print (row, end =\"\\t\")\n",
    "    rec1= Trace(row,  trimming=True)\n",
    "    secuencia = SeqRecord(Seq((rec1.seq)), id=rec1.id, description=rec1.id)\n",
    "    archivo= \"../fasta/\"+ row[:-4] +\".fasta\"\n",
    "    print (archivo)\n",
    "    SeqIO.write(secuencia, archivo, \"fasta\")\n",
    "print (n, \"archivos\")\n",
    "\n",
    "\n"
   ]
  },
  {
   "cell_type": "code",
   "execution_count": null,
   "metadata": {
    "collapsed": true
   },
   "outputs": [],
   "source": [
    "!more \"../fasta/Nav1.2F.fasta\""
   ]
  },
  {
   "cell_type": "markdown",
   "metadata": {},
   "source": [
    "## guarde todos los archivos en un solo archivo fasta"
   ]
  },
  {
   "cell_type": "code",
   "execution_count": null,
   "metadata": {
    "collapsed": true
   },
   "outputs": [],
   "source": [
    "secuencias= []\n",
    "n=0\n",
    "for row in lista:\n",
    "    if row[:1]==\".\":\n",
    "        continue\n",
    "        \n",
    "    n+=1\n",
    "    print (row)\n",
    "    rec1= Trace(row,  trimming=True)\n",
    "    secuencia = SeqRecord(Seq(rec1.seq,\n",
    "       IUPAC.unambiguous_dna), id=rec1.id[:rec1.id.find(\")\")], description=rec1.id)\n",
    "    secuencias.append(secuencia)\n",
    "archivo= \"../fasta/secuencias.fasta\"\n",
    "print (archivo)\n",
    "SeqIO.write(secuencias, archivo, \"fasta\")\n",
    "print (n, \"secuencias guardadas en un solo archivo\")\n",
    "#secuencias"
   ]
  },
  {
   "cell_type": "markdown",
   "metadata": {},
   "source": [
    "## corrobore el archivo secuencias.fasta"
   ]
  },
  {
   "cell_type": "code",
   "execution_count": null,
   "metadata": {
    "collapsed": true,
    "scrolled": false
   },
   "outputs": [],
   "source": [
    "!more \"../fasta/secuencias.fasta\""
   ]
  },
  {
   "cell_type": "markdown",
   "metadata": {},
   "source": [
    "## de qué manera podría cambiarle los nombres de descripción a las secuencias?"
   ]
  },
  {
   "cell_type": "markdown",
   "metadata": {},
   "source": [
    "## utilice el Mega y compare sus resultados"
   ]
  },
  {
   "cell_type": "markdown",
   "metadata": {},
   "source": [
    "## guarde el archivo en formato del GenBank"
   ]
  },
  {
   "cell_type": "raw",
   "metadata": {
    "collapsed": true
   },
   "source": [
    "mkdir \"../genbank\""
   ]
  },
  {
   "cell_type": "code",
   "execution_count": null,
   "metadata": {
    "collapsed": true
   },
   "outputs": [],
   "source": [
    "SeqIO.write(secuencias, \"../genbank/secuencias.gb\", \"genbank\")\n"
   ]
  },
  {
   "cell_type": "markdown",
   "metadata": {
    "collapsed": true
   },
   "source": [
    "### revise el archivo ../genbank/secuencias.gb, explique qué observa"
   ]
  },
  {
   "cell_type": "code",
   "execution_count": null,
   "metadata": {
    "collapsed": true,
    "scrolled": true
   },
   "outputs": [],
   "source": [
    "!more \"../genbank/secuencias.gb\""
   ]
  },
  {
   "cell_type": "code",
   "execution_count": null,
   "metadata": {
    "collapsed": true
   },
   "outputs": [],
   "source": []
  },
  {
   "cell_type": "code",
   "execution_count": null,
   "metadata": {
    "collapsed": true
   },
   "outputs": [],
   "source": []
  },
  {
   "cell_type": "markdown",
   "metadata": {},
   "source": [
    "## Graficado del electroferograma"
   ]
  },
  {
   "cell_type": "markdown",
   "metadata": {},
   "source": [
    "Seleccionar un archivo para leerlo"
   ]
  },
  {
   "cell_type": "code",
   "execution_count": null,
   "metadata": {
    "collapsed": true
   },
   "outputs": [],
   "source": [
    "record = SeqIO.read('Nav1.2_(B9)-DG7A_E12_010.ab1', 'abi')"
   ]
  },
  {
   "cell_type": "code",
   "execution_count": null,
   "metadata": {
    "collapsed": true
   },
   "outputs": [],
   "source": [
    "record.annotations.keys()\n",
    "record.annotations['abif_raw'].keys()\n",
    "channels = ['DATA9', 'DATA10', 'DATA11', 'DATA12']\n",
    "trace = defaultdict(list)"
   ]
  },
  {
   "cell_type": "markdown",
   "metadata": {},
   "source": [
    "## qué contiene la variable channels?"
   ]
  },
  {
   "cell_type": "code",
   "execution_count": null,
   "metadata": {
    "collapsed": true
   },
   "outputs": [],
   "source": []
  },
  {
   "cell_type": "code",
   "execution_count": null,
   "metadata": {
    "collapsed": true
   },
   "outputs": [],
   "source": []
  },
  {
   "cell_type": "code",
   "execution_count": null,
   "metadata": {
    "collapsed": true
   },
   "outputs": [],
   "source": [
    "for c in channels:\n",
    "    trace[c] = record.annotations['abif_raw'][c]"
   ]
  },
  {
   "cell_type": "code",
   "execution_count": null,
   "metadata": {
    "collapsed": true
   },
   "outputs": [],
   "source": [
    "plt.plot(trace['DATA9'], color='blue')\n",
    "plt.plot(trace['DATA10'], color='red')\n",
    "plt.plot(trace['DATA11'], color='green')\n",
    "plt.plot(trace['DATA12'], color='yellow')\n",
    "plt.show()"
   ]
  },
  {
   "cell_type": "markdown",
   "metadata": {},
   "source": [
    "### Describa qué hacen los siguientes comandos"
   ]
  },
  {
   "cell_type": "code",
   "execution_count": null,
   "metadata": {
    "collapsed": true
   },
   "outputs": [],
   "source": [
    "plt.figure(figsize=(16,4))\n",
    "plt.plot(trace['DATA9'], color='blue')\n",
    "plt.plot(trace['DATA10'], color='red')\n",
    "plt.plot(trace['DATA11'], color='green')\n",
    "plt.plot(trace['DATA12'], color='yellow')\n",
    "plt.xlim(0,1000)  # se utiliza valores de 1000 como maximo\n",
    "plt.show()"
   ]
  },
  {
   "cell_type": "code",
   "execution_count": null,
   "metadata": {
    "collapsed": true
   },
   "outputs": [],
   "source": [
    "plt.figure(figsize=(16,4))\n",
    "plt.plot(trace['DATA9'], color='blue')\n",
    "plt.plot(trace['DATA10'], color='red')\n",
    "plt.plot(trace['DATA11'], color='green')\n",
    "plt.plot(trace['DATA12'], color='yellow')\n",
    "plt.xlim(1000,2000)  # se utiliza valores de 1000 como maximo\n",
    "plt.show()"
   ]
  },
  {
   "cell_type": "code",
   "execution_count": null,
   "metadata": {
    "collapsed": true
   },
   "outputs": [],
   "source": [
    "def graficado(x1,x2):\n",
    "    plt.figure(figsize=(16,4))\n",
    "    plt.plot(trace['DATA9'], color='blue')\n",
    "    plt.plot(trace['DATA10'], color='red')\n",
    "    plt.plot(trace['DATA11'], color='green')\n",
    "    plt.plot(trace['DATA12'], color='yellow')\n",
    "    plt.xlim(x1,x2)  # se utiliza valores de 1000 como maximo\n",
    "    plt.show()"
   ]
  },
  {
   "cell_type": "code",
   "execution_count": null,
   "metadata": {
    "collapsed": true
   },
   "outputs": [],
   "source": [
    "graficado (2000,3000)"
   ]
  },
  {
   "cell_type": "code",
   "execution_count": null,
   "metadata": {
    "collapsed": true
   },
   "outputs": [],
   "source": [
    "intervalos = range(1000,6000,1000)\n",
    "intervalos"
   ]
  },
  {
   "cell_type": "code",
   "execution_count": null,
   "metadata": {
    "collapsed": true,
    "scrolled": false
   },
   "outputs": [],
   "source": [
    "for intervalo in intervalos:\n",
    "    graficado (intervalo-1000,intervalo)"
   ]
  },
  {
   "cell_type": "code",
   "execution_count": null,
   "metadata": {
    "collapsed": true
   },
   "outputs": [],
   "source": []
  },
  {
   "cell_type": "markdown",
   "metadata": {},
   "source": [
    "## Cómo se compara esta información con la observada con el MEGA?"
   ]
  },
  {
   "cell_type": "code",
   "execution_count": null,
   "metadata": {
    "collapsed": true
   },
   "outputs": [],
   "source": []
  }
 ],
 "metadata": {
  "kernelspec": {
   "display_name": "Python 3",
   "language": "python",
   "name": "python3"
  },
  "language_info": {
   "codemirror_mode": {
    "name": "ipython",
    "version": 3
   },
   "file_extension": ".py",
   "mimetype": "text/x-python",
   "name": "python",
   "nbconvert_exporter": "python",
   "pygments_lexer": "ipython3",
   "version": "3.6.3"
  }
 },
 "nbformat": 4,
 "nbformat_minor": 2
}
