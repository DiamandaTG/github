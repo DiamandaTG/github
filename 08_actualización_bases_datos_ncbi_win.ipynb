{
 "cells": [
  {
   "cell_type": "markdown",
   "metadata": {},
   "source": [
    "# Actualización de las bases de datos del NCBI"
   ]
  },
  {
   "cell_type": "markdown",
   "metadata": {},
   "source": [
    "### Se requiere tener instalado el blast\n",
    "https://blast.ncbi.nlm.nih.gov/Blast.cgi?CMD=Web&PAGE_TYPE=BlastDocs&DOC_TYPE=Download\n",
    "ejecutar en el cmd\n",
    "blastn -version\n",
    "\n",
    "### se requiere tener instalado el lenguaje perl\n",
    "https://www.perl.org\n",
    "ejecutar en el cmd\n",
    "perl -version \n",
    "\n"
   ]
  },
  {
   "cell_type": "markdown",
   "metadata": {},
   "source": [
    "### se actualiza la base de datos utilizando un comando de perl"
   ]
  },
  {
   "cell_type": "code",
   "execution_count": 7,
   "metadata": {},
   "outputs": [
    {
     "name": "stdout",
     "output_type": "stream",
     "text": [
      "C:\\Users\\SALA GRAL\\Desktop\\bioinformatica_aplicada\\bigdata\n"
     ]
    }
   ],
   "source": [
    "cd \"~/Desktop/bioinformatica_aplicada/bigdata/\""
   ]
  },
  {
   "cell_type": "code",
   "execution_count": 10,
   "metadata": {},
   "outputs": [
    {
     "name": "stdout",
     "output_type": "stream",
     "text": [
      " El volumen de la unidad C no tiene etiqueta.\n",
      " El número de serie del volumen es: B09C-5CE4\n",
      "\n",
      " Directorio de C:\\Program Files\\NCBI\\blast\\bin\n",
      "\n",
      "14/12/2017  10:53 a. m.    <DIR>          .\n",
      "14/12/2017  10:53 a. m.    <DIR>          ..\n",
      "18/10/2017  06:40 p. m.         8,400,896 blastdbcheck.exe\n",
      "18/10/2017  06:40 p. m.        10,557,440 blastdbcmd.exe\n",
      "18/10/2017  06:40 p. m.         8,071,168 blastdb_aliastool.exe\n",
      "18/10/2017  06:40 p. m.        15,787,008 blastn.exe\n",
      "18/10/2017  06:40 p. m.        15,781,888 blastp.exe\n",
      "18/10/2017  06:40 p. m.        15,789,056 blastx.exe\n",
      "18/10/2017  06:40 p. m.        15,591,936 blast_formatter.exe\n",
      "18/10/2017  06:40 p. m.         8,367,616 convert2blastmask.exe\n",
      "18/10/2017  06:40 p. m.        16,026,112 deltablast.exe\n",
      "18/10/2017  06:40 p. m.         8,868,352 dustmasker.exe\n",
      "18/10/2017  06:40 p. m.            51,345 legacy_blast.pl\n",
      "18/10/2017  06:40 p. m.           563,978 libgcc_s_seh-1.dll\n",
      "18/10/2017  06:40 p. m.           706,587 libgmp-10.dll\n",
      "18/10/2017  06:40 p. m.         2,217,911 libgnutls-30.dll\n",
      "18/10/2017  06:40 p. m.         6,136,631 libhogweed-4-2.dll\n",
      "18/10/2017  06:40 p. m.         4,809,095 libnettle-6-2.dll\n",
      "18/10/2017  06:40 p. m.         1,622,819 libp11-kit-0.dll\n",
      "18/10/2017  06:40 p. m.        10,947,584 makeblastdb.exe\n",
      "18/10/2017  06:40 p. m.         8,991,744 makembindex.exe\n",
      "18/10/2017  06:40 p. m.         9,018,880 makeprofiledb.exe\n",
      "18/10/2017  06:40 p. m.           660,128 msvcp120.dll\n",
      "18/10/2017  06:40 p. m.           963,232 msvcr120.dll\n",
      "18/10/2017  06:40 p. m.        15,988,224 psiblast.exe\n",
      "18/10/2017  06:40 p. m.        15,798,272 rpsblast.exe\n",
      "18/10/2017  06:40 p. m.        15,797,248 rpstblastn.exe\n",
      "18/10/2017  06:40 p. m.         9,067,008 segmasker.exe\n",
      "18/10/2017  06:40 p. m.        15,958,016 tblastn.exe\n",
      "18/10/2017  06:40 p. m.        15,767,040 tblastx.exe\n",
      "18/10/2017  06:40 p. m.            12,488 update_blastdb.pl\n",
      "18/10/2017  06:40 p. m.        11,637,248 windowmasker.exe\n",
      "              30 archivos    269,956,950 bytes\n",
      "               2 dirs  10,102,067,200 bytes libres\n"
     ]
    }
   ],
   "source": [
    "!dir \"C:\\Program Files\\NCBI\\blast\\bin\\\""
   ]
  },
  {
   "cell_type": "code",
   "execution_count": 15,
   "metadata": {},
   "outputs": [
    {
     "name": "stdout",
     "output_type": "stream",
     "text": [
      "Connected to NCBI\n",
      "16SMicrobial.tar.gz is up to date.\n"
     ]
    }
   ],
   "source": [
    "!perl \"C:/Program Files/NCBI/blast/bin/update_blastdb.pl\" --passive 16SMicrobial\n"
   ]
  },
  {
   "cell_type": "code",
   "execution_count": null,
   "metadata": {
    "collapsed": true
   },
   "outputs": [],
   "source": [
    "mkdir 16SMicrobial"
   ]
  },
  {
   "cell_type": "code",
   "execution_count": 16,
   "metadata": {},
   "outputs": [
    {
     "name": "stdout",
     "output_type": "stream",
     "text": [
      " El volumen de la unidad C no tiene etiqueta.\n",
      " El número de serie del volumen es: B09C-5CE4\n",
      "\n",
      " Directorio de C:\\Users\\SALA GRAL\\Desktop\\bioinformatica_aplicada\\bigdata\n",
      "\n",
      "09/12/2017  11:02 p. m.            78,368 16SMicrobial.naa\n",
      "09/12/2017  11:02 p. m.            78,292 16SMicrobial.nab\n",
      "09/12/2017  11:02 p. m.            78,292 16SMicrobial.nac\n",
      "09/12/2017  11:02 p. m.         3,166,613 16SMicrobial.nhr\n",
      "09/12/2017  11:02 p. m.           234,968 16SMicrobial.nin\n",
      "09/12/2017  11:02 p. m.           158,808 16SMicrobial.nnd\n",
      "09/12/2017  11:02 p. m.               668 16SMicrobial.nni\n",
      "09/12/2017  11:02 p. m.            78,324 16SMicrobial.nog\n",
      "09/12/2017  11:02 p. m.           652,306 16SMicrobial.nsd\n",
      "09/12/2017  11:02 p. m.            14,585 16SMicrobial.nsi\n",
      "09/12/2017  11:02 p. m.         7,227,760 16SMicrobial.nsq\n",
      "10/12/2017  05:02 a. m.        11,786,240 16SMicrobial.tar\n",
      "04/01/2018  11:53 a. m.         4,728,911 16SMicrobial.tar.gz\n",
      "04/01/2018  11:53 a. m.                54 16SMicrobial.tar.gz.md5\n",
      "              14 archivos     28,284,189 bytes\n",
      "               0 dirs  10,097,111,040 bytes libres\n"
     ]
    }
   ],
   "source": [
    "ls 16*"
   ]
  },
  {
   "cell_type": "markdown",
   "metadata": {},
   "source": [
    "## Ejecutar en el \"git bash\""
   ]
  },
  {
   "cell_type": "markdown",
   "metadata": {
    "collapsed": true
   },
   "source": [
    "cd ~/Desktop/bioinformatica_aplicada/bigdata/\n",
    "gunzip 16SMicrobial.tar.gz\n",
    "tar xvf  16SMicrobial.tar"
   ]
  },
  {
   "cell_type": "code",
   "execution_count": 18,
   "metadata": {},
   "outputs": [
    {
     "name": "stdout",
     "output_type": "stream",
     "text": [
      " El volumen de la unidad C no tiene etiqueta.\n",
      " El número de serie del volumen es: B09C-5CE4\n",
      "\n",
      " Directorio de C:\\Users\\SALA GRAL\\Desktop\\bioinformatica_aplicada\\bigdata\n",
      "\n",
      "\n",
      " Directorio de C:\\Users\\SALA GRAL\\Desktop\\bioinformatica_aplicada\\bigdata\n",
      "\n",
      "30/12/2017  11:00 p. m.            78,368 16SMicrobial.naa\n",
      "30/12/2017  11:00 p. m.            78,292 16SMicrobial.nab\n",
      "30/12/2017  11:00 p. m.            78,292 16SMicrobial.nac\n",
      "30/12/2017  11:00 p. m.         3,166,658 16SMicrobial.nhr\n",
      "30/12/2017  11:00 p. m.           234,968 16SMicrobial.nin\n",
      "30/12/2017  11:00 p. m.           158,808 16SMicrobial.nnd\n",
      "30/12/2017  11:00 p. m.               668 16SMicrobial.nni\n",
      "30/12/2017  11:00 p. m.            78,324 16SMicrobial.nog\n",
      "30/12/2017  11:00 p. m.           652,306 16SMicrobial.nsd\n",
      "30/12/2017  11:00 p. m.            14,585 16SMicrobial.nsi\n",
      "30/12/2017  11:00 p. m.         7,227,760 16SMicrobial.nsq\n",
      "04/01/2018  11:53 a. m.        11,786,240 16SMicrobial.tar\n",
      "04/01/2018  11:53 a. m.                54 16SMicrobial.tar.gz.md5\n",
      "              13 archivos     23,555,323 bytes\n",
      "               0 dirs  10,468,429,824 bytes libres\n"
     ]
    }
   ],
   "source": [
    "ls -lh 16*"
   ]
  },
  {
   "cell_type": "markdown",
   "metadata": {},
   "source": [
    "### Cómo sería el comando para descargar la base de datos taxonómica (taxdb)"
   ]
  },
  {
   "cell_type": "code",
   "execution_count": 19,
   "metadata": {},
   "outputs": [
    {
     "name": "stdout",
     "output_type": "stream",
     "text": [
      "Connected to NCBI\n",
      "Downloading taxdb.tar.gz... [OK]\n"
     ]
    }
   ],
   "source": [
    "!perl \"C:/Program Files/NCBI/blast/bin/update_blastdb.pl\" --passive taxdb"
   ]
  },
  {
   "cell_type": "markdown",
   "metadata": {},
   "source": [
    "## Ejecutar en el \"git bash\""
   ]
  },
  {
   "cell_type": "raw",
   "metadata": {
    "collapsed": true
   },
   "source": [
    "cd ~/Desktop/bioinformatica_aplicada/bigdata/\n",
    "gunzip taxdb.tar.gz\n",
    "tar xvf  taxdb.tar"
   ]
  },
  {
   "cell_type": "markdown",
   "metadata": {},
   "source": [
    "### Cómo serían los comandos para descargar y descomprimir las proteinas de referencia (swissprot)?\n"
   ]
  },
  {
   "cell_type": "code",
   "execution_count": 20,
   "metadata": {},
   "outputs": [
    {
     "name": "stdout",
     "output_type": "stream",
     "text": [
      "Connected to NCBI\n",
      "Downloading swissprot.tar.gz... [OK]\n"
     ]
    }
   ],
   "source": [
    "!perl \"C:/Program Files/NCBI/blast/bin/update_blastdb.pl\" --passive swissprot"
   ]
  },
  {
   "cell_type": "raw",
   "metadata": {
    "collapsed": true
   },
   "source": [
    "#cd ~/Desktop/bioinformatica_aplicada/bigdata/ #opcional\n",
    "gunzip swissprot.tar.gz\n",
    "tar xvf  swissprot.tar"
   ]
  },
  {
   "cell_type": "code",
   "execution_count": null,
   "metadata": {
    "collapsed": true
   },
   "outputs": [],
   "source": []
  }
 ],
 "metadata": {
  "kernelspec": {
   "display_name": "Python 3",
   "language": "python",
   "name": "python3"
  },
  "language_info": {
   "codemirror_mode": {
    "name": "ipython",
    "version": 3
   },
   "file_extension": ".py",
   "mimetype": "text/x-python",
   "name": "python",
   "nbconvert_exporter": "python",
   "pygments_lexer": "ipython3",
   "version": "3.6.3"
  }
 },
 "nbformat": 4,
 "nbformat_minor": 2
}
